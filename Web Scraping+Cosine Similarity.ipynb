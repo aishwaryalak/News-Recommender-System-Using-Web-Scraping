{
 "cells": [
  {
   "cell_type": "code",
   "execution_count": 1,
   "id": "0f261cf6",
   "metadata": {},
   "outputs": [
    {
     "name": "stderr",
     "output_type": "stream",
     "text": [
      "C:\\Users\\AGL\\anaconda3\\lib\\site-packages\\numpy\\_distributor_init.py:30: UserWarning: loaded more than 1 DLL from .libs:\n",
      "C:\\Users\\AGL\\anaconda3\\lib\\site-packages\\numpy\\.libs\\libopenblas.EL2C6PLE4ZYW3ECEVIV3OXXGRN2NRFM2.gfortran-win_amd64.dll\n",
      "C:\\Users\\AGL\\anaconda3\\lib\\site-packages\\numpy\\.libs\\libopenblas.FB5AE2TYXYH2IJRDKGDGQ3XBKLKTF43H.gfortran-win_amd64.dll\n",
      "  warnings.warn(\"loaded more than 1 DLL from .libs:\"\n",
      "<frozen importlib._bootstrap>:228: RuntimeWarning: scipy._lib.messagestream.MessageStream size changed, may indicate binary incompatibility. Expected 56 from C header, got 64 from PyObject\n"
     ]
    },
    {
     "name": "stdout",
     "output_type": "stream",
     "text": [
      "                                                 Title  \\\n",
      "0    High Blood Pressure In Childhood Linked To 4x ...   \n",
      "1    Meet Roz Kelly Morkel, LSG Coach Morne Morkel'...   \n",
      "2    Lok Sabha Elections 2024: Banks Will Be Closed...   \n",
      "3    IPL 2024: Why Matheesha Pathirana Did Not Play...   \n",
      "4    Rajgarh LS Seat: Ex-CM Digvijaya Singh Fights ...   \n",
      "..                                                 ...   \n",
      "175  Rs 4,000 Bill For 2 Rolls And Coffees Baffles ...   \n",
      "176  Bizarre: Thief Sells iPhone For 1 Plate Pav Bh...   \n",
      "177  Polish Man Tours India With His Mom, Shares He...   \n",
      "178  'Installment Period Bhi To Batao': SIP Poster ...   \n",
      "179  Biker's Witty Reason For Booking Rapido Goes V...   \n",
      "\n",
      "                                           Description       Genres  \n",
      "0    Hypertension is known to affect one in every 1...  latest-news  \n",
      "1    Step into the enchanting world of cricket wher...  latest-news  \n",
      "2    Several banks across India will remain closed ...  latest-news  \n",
      "3    IPL 2024: Why Matheesha Pathirana missed the c...  latest-news  \n",
      "4    The veteran Congress leader represented Rajgar...  latest-news  \n",
      "..                                                 ...          ...  \n",
      "175  Upon examining the breakdown of the bill, it w...        viral  \n",
      "176  According to @KartikeyaRai11's account, the th...        viral  \n",
      "177  In a viral tweet, the travel journey of the Po...        viral  \n",
      "178  The poster is viral on social media.\\nThe comp...        viral  \n",
      "179  A Rapido driver's viral video captures his ext...        viral  \n",
      "\n",
      "[180 rows x 3 columns]\n"
     ]
    }
   ],
   "source": [
    "from selenium import webdriver\n",
    "from bs4 import BeautifulSoup\n",
    "from selenium.webdriver.support.ui import WebDriverWait\n",
    "import pandas as pd\n",
    "import numpy as np\n",
    "from sentence_transformers import SentenceTransformer\n",
    "from sklearn.feature_extraction.text import CountVectorizer\n",
    "from sklearn.metrics.pairwise import cosine_similarity\n",
    "\n",
    "l=[\"https://zeenews.india.com/latest-news\",\"https://zeenews.india.com/india\",\"https://zeenews.india.com/lok-sabha-elections-2024\",\"https://zeenews.india.com/cricket\",\"https://zeenews.india.com/entertainment\",\"https://zeenews.india.com/lifestyle\",\"https://zeenews.india.com/business\",\"https://zeenews.india.com/world\",\"https://zeenews.india.com/auto\",\"https://zeenews.india.com/viral\"]\n",
    "t=[]\n",
    "des=[]\n",
    "g=[]\n",
    "\n",
    "# Initialize the Selenium WebDriver (ensure you have the appropriate driver installed)\n",
    "driver = webdriver.Firefox()  # Or any other WebDriver you prefer\n",
    "\n",
    "\n",
    "scrolls = 1  # Change the number of scrolls as needed\n",
    "for i in l:\n",
    "    for n in range(scrolls):\n",
    "        driver.get(i)\n",
    "        html = driver.page_source\n",
    "        soup = BeautifulSoup(html, 'html.parser')\n",
    "        div_tags_titles = soup.find_all('div', class_='news_description desc-title morenews-title')\n",
    "        div_tags_desc = soup.find_all('div', class_='more-news-desc')\n",
    "        div_date = soup.find_all('div',class_='updated-timestamp')\n",
    "        \n",
    "        for div_tag in div_tags_titles:\n",
    "            anchor_tags = div_tag.find_all('a')\n",
    "            titles = [tag.text.strip() for tag in anchor_tags]\n",
    "\n",
    "            for title in titles:\n",
    "                t.append(title)\n",
    "        for div in div_tags_desc:\n",
    "            desc_tags = div.find_all('a')\n",
    "            desc = [tag.text.strip() for tag in desc_tags]\n",
    "            for d in desc:\n",
    "                des.append(d)\n",
    "                g.append(i)\n",
    "                g_cleaned = [url.replace('https://zeenews.india.com/', '') for url in g]  \n",
    "                \n",
    "    \n",
    "df = pd.DataFrame({'Title': t, 'Description': des,'Genres': g_cleaned})\n",
    "df['Description'] = df['Description'].fillna('No Description Available').replace('', 'No Description Available')\n",
    "print(df)\n",
    "df.to_csv(\"News2.csv\")\n",
    "        \n",
    "WebDriverWait(driver, 10)\n",
    "\n",
    "# Close the WebDriver\n",
    "driver.quit()\n"
   ]
  },
  {
   "cell_type": "code",
   "execution_count": 2,
   "id": "6de9d997",
   "metadata": {},
   "outputs": [],
   "source": [
    "X = np.array(df.Description)"
   ]
  },
  {
   "cell_type": "code",
   "execution_count": 3,
   "id": "65824ecb",
   "metadata": {},
   "outputs": [
    {
     "data": {
      "application/vnd.jupyter.widget-view+json": {
       "model_id": "3bdad33ea5234f17af13f7e3abce9660",
       "version_major": 2,
       "version_minor": 0
      },
      "text/plain": [
       "Batches:   0%|          | 0/6 [00:00<?, ?it/s]"
      ]
     },
     "metadata": {},
     "output_type": "display_data"
    }
   ],
   "source": [
    "text_data = X\n",
    "model = SentenceTransformer('distilbert-base-nli-mean-tokens')\n",
    "embeddings = model.encode(text_data, show_progress_bar=True)"
   ]
  },
  {
   "cell_type": "code",
   "execution_count": 4,
   "id": "29ad018c",
   "metadata": {},
   "outputs": [],
   "source": [
    "embed_data = embeddings"
   ]
  },
  {
   "cell_type": "code",
   "execution_count": 5,
   "id": "516d438d",
   "metadata": {},
   "outputs": [],
   "source": [
    "X = np.array(embed_data)"
   ]
  },
  {
   "cell_type": "code",
   "execution_count": 6,
   "id": "cee69b31",
   "metadata": {},
   "outputs": [],
   "source": [
    "cos_sim_data = pd.DataFrame(cosine_similarity(X))"
   ]
  },
  {
   "cell_type": "code",
   "execution_count": 7,
   "id": "cd58b4d9",
   "metadata": {},
   "outputs": [],
   "source": [
    "from sklearn.feature_extraction.text import TfidfVectorizer\n",
    "\n",
    "def give_recommendations(search_term, print_recommendation=False, print_recommendation_plots=False, print_genres=False):\n",
    "    # Filter news articles containing the search term\n",
    "    relevant_indices = df[df['Description'].str.contains(search_term, case=False, na=False)].index\n",
    "    \n",
    "    if len(relevant_indices) == 0:\n",
    "        return \"No relevant news found.\"\n",
    "\n",
    "    # Calculate TF-IDF vectors\n",
    "    tfidf_vectorizer = TfidfVectorizer(stop_words='english')\n",
    "    tfidf_matrix = tfidf_vectorizer.fit_transform(df['Description'])\n",
    "\n",
    "    # Calculate cosine similarity between search term and all news articles\n",
    "    search_vector = tfidf_vectorizer.transform([search_term])\n",
    "    cosine_similarities = cosine_similarity(search_vector, tfidf_matrix).flatten()\n",
    "\n",
    "    # Get indices of top similar news articles\n",
    "    index_recomm = cosine_similarities.argsort()[-6:-1][::-1]\n",
    "\n",
    "    news_recomm = df['Title'].iloc[index_recomm].values\n",
    "    result = {'News': news_recomm, 'Index': index_recomm}\n",
    "\n",
    "    if print_recommendation:\n",
    "        print(f\"Latest News related to '{search_term}':\")\n",
    "        for idx, news in enumerate(news_recomm, start=1):\n",
    "            print(f\"{idx}. {news}\")\n",
    "\n",
    "    if print_recommendation_plots:\n",
    "        print(f\"\\nShort Description of above latest news related to '{search_term}':\")\n",
    "        for idx, news_idx in enumerate(index_recomm, start=1):\n",
    "            plot_q = df['Description'].iloc[news_idx]\n",
    "            print(f\"{idx}. {plot_q}\")\n",
    "\n",
    "    if print_genres:\n",
    "        print(f\"\\nGenres of above latest news related to '{search_term}':\")\n",
    "        for idx, news_idx in enumerate(index_recomm, start=1):\n",
    "            genres_q = df['Genres'].iloc[news_idx]\n",
    "            print(f\"{idx}. {genres_q}\")"
   ]
  },
  {
   "cell_type": "markdown",
   "id": "d7de9f22",
   "metadata": {},
   "source": [
    "# News Bot"
   ]
  },
  {
   "cell_type": "code",
   "execution_count": 8,
   "id": "7d39316c",
   "metadata": {},
   "outputs": [
    {
     "name": "stdout",
     "output_type": "stream",
     "text": [
      "Enter the specific word for which you have to find latest news if it is available : elections\n",
      "Description for above news is needed??\n",
      "Type yes or no :yes\n",
      "Genres for above news is needed??\n",
      "Type yes or no : yes\n",
      "Latest News related to 'elections':\n",
      "1. Lok Sabha Elections 2024: Banks Will Be Closed In These States On May 7\n",
      "2. K'taka Sex Abuse Case:BJP Chief Denies Getting Any Letter Regarding Allegation\n",
      "3. Can Mumbai Indians Qualify For Playoffs After Defeat Against KKR In IPL 2024?\n",
      "4. Pushpa Pushpa: The First Single From Allu Arjun's 'Pushpa 2' To Drop Today!\n",
      "5. 'Pushpa Pushpa' Song Out: First Song From Allu Arjun's 'Pushpa 2' Out Now\n",
      "\n",
      "Short Description of above latest news related to 'elections':\n",
      "1. Several banks across India will remain closed due to Phase 3 of the Lok Sabha Elections 2024 on May 7.\n",
      "2. Karnataka BJP President BY Vijyendra on Saturday denied the knowledge of sexual abuse allegations against Hassan JD(S) MP Prajwal Revanna and emphasised that issues can not adversely impact the two parties in the ongoing general elections.\n",
      "3. Can Mumbai Indians Qualify For Playoffs After Defeat Against KKR In IPL 2024?\n",
      "4. The Mass Jathaara look of Allu Arjun as Pushparaj promises a commercial potboiler and euphoria across the nation. While the first single 'Pushpa Pushpa' from the film will be out today, the makers are leaving no stone unturned to keep the anticipation of the audiences at the peak.\n",
      "5. The lyrical video which gives glimpses from the film titled ‘Pushpa Pushpa’ is already creating waves all over the internet.\n",
      "\n",
      "Genres of above latest news related to 'elections':\n",
      "1. latest-news\n",
      "2. india\n",
      "3. cricket\n",
      "4. entertainment\n",
      "5. entertainment\n"
     ]
    }
   ],
   "source": [
    "s = str(input(\"Enter the specific word for which you have to find latest news if it is available : \"))\n",
    "rec = True\n",
    "d = str(input(\"Description for above news is needed??\\nType yes or no :\"))\n",
    "if d==\"yes\":\n",
    "    d=True\n",
    "else:\n",
    "    d=False\n",
    "    \n",
    "gen = str(input(\"Genres for above news is needed??\\nType yes or no : \"))\n",
    "if gen==\"yes\":\n",
    "    gen=True\n",
    "else:\n",
    "    gen=False\n",
    "    \n",
    "\n",
    "give_recommendations(s,rec,d,gen)"
   ]
  }
 ],
 "metadata": {
  "kernelspec": {
   "display_name": "Python 3 (ipykernel)",
   "language": "python",
   "name": "python3"
  },
  "language_info": {
   "codemirror_mode": {
    "name": "ipython",
    "version": 3
   },
   "file_extension": ".py",
   "mimetype": "text/x-python",
   "name": "python",
   "nbconvert_exporter": "python",
   "pygments_lexer": "ipython3",
   "version": "3.9.12"
  }
 },
 "nbformat": 4,
 "nbformat_minor": 5
}
